{
 "cells": [
  {
   "cell_type": "code",
   "execution_count": 53,
   "id": "22ed656f-2ea1-4a2e-9a97-88fdd5154ad4",
   "metadata": {},
   "outputs": [],
   "source": [
    "import numpy as np\n",
    "\n",
    "import math\n",
    "import matplotlib.pyplot as plt"
   ]
  },
  {
   "cell_type": "code",
   "execution_count": 3,
   "id": "6f8044b1-3386-4782-bcef-73fc8b41fa9b",
   "metadata": {},
   "outputs": [],
   "source": [
    "def f(x): \n",
    "    return 3*x*x - 4*x + 5\n",
    "\n",
    "def dfdx(x):\n",
    "    return 6*x - 4"
   ]
  },
  {
   "cell_type": "code",
   "execution_count": 4,
   "id": "63bb225d-9e6e-4251-8c15-473e40f59579",
   "metadata": {},
   "outputs": [],
   "source": [
    "x = np.arange(-5, 5, 0.25)\n",
    "\n",
    "y = f(x)\n",
    "dydx = dfdx(x)"
   ]
  },
  {
   "cell_type": "code",
   "execution_count": null,
   "id": "c7e9f946-69e8-4034-8308-7c085f4e771e",
   "metadata": {},
   "outputs": [],
   "source": []
  },
  {
   "cell_type": "code",
   "execution_count": 63,
   "id": "798b0d0c-38fc-40fa-b103-ff1099abae37",
   "metadata": {},
   "outputs": [],
   "source": [
    "class Parameter:\n",
    "    def __init__(self, value: float, name: str) -> None:\n",
    "        self._value = value\n",
    "        self._name = name\n",
    "\n",
    "        self._grad = 0.0\n",
    "        self._backward = lambda: None\n",
    "\n",
    "    def __repr__(self) -> str:\n",
    "        return f\"Parameter {self._name} = {self._value}; dL/d[{self._name}] = {self._grad}\"\n",
    "\n",
    "    def __mul__(self, other: Parameter) -> Parameter:\n",
    "        result = Parameter(\n",
    "            self._value * other._value,\n",
    "            f'{self._name} * {other._name}'\n",
    "        )\n",
    "\n",
    "        def _backward():\n",
    "            self._grad += other._value * result._grad #dL / dself\n",
    "            other._grad += self._value * result._grad # dL / dother\n",
    "\n",
    "        result._backward = _backward\n",
    "\n",
    "        return result\n",
    "\n",
    "    def __add__(self, other: Parameter) -> Parameter:\n",
    "        result = Parameter(\n",
    "            self._value + other._value,\n",
    "            f'[{self._name} + {other._name}]'\n",
    "        )\n",
    "\n",
    "        def _backward():\n",
    "            self._grad += 1.0 * result._grad  #dL / dself\n",
    "            other._grad += 1.0 * result._grad # dL / dother\n",
    "\n",
    "        result._backward = _backward\n",
    "\n",
    "        return result\n",
    "\n",
    "    def sigmoid(self) -> Parameter:\n",
    "        # f(x) = 1 / (1 + exp(self._value))\n",
    "        # f'(x) = f(x) * (1 - f(x))\n",
    "\n",
    "        val = 1.0 / (1.0 + math.exp(-self._value))\n",
    "\n",
    "        result = Parameter(\n",
    "            val,\n",
    "            f\"σ({self._name})\"\n",
    "        )\n",
    "\n",
    "        def _backward():\n",
    "            self._grad = result._grad * val * (1 - val)\n",
    "\n",
    "        result._backward = _backward\n",
    "\n",
    "        return result\n",
    "\n",
    "    #def backward(self):\n",
    "        # LAB 2 TASK 1: YOUR CODE GOES HERE\n",
    "        \n",
    "\n",
    "    def ReLu(self):\n",
    "        # LAB 2 TASK 2: YOUR CODE GOES HERE (feel free to  rename)\n",
    "        # if x < 0:\n",
    "        #     return 0\n",
    "        # elif x >= 0:\n",
    "        #     return x\n",
    "        result = Parameter(0 if self._value < 0 else self._value,  'ReLU')\n",
    "\n",
    "        def _backward():\n",
    "            # if x < 0:\n",
    "            #     return 0 \n",
    "            # elif x >= 0:\n",
    "            #     return 1 \n",
    "            self.grad = (0 if self._value < 0 else self._value)\n",
    "        result._backward = _backward\n",
    "\n",
    "        return result\n",
    "\n",
    "    def Elu(self):\n",
    "    #     # LAB 2 TASK 2: YOUR CODE GOES HERE (feel free to  rename)\n",
    "    #     if x > 0:\n",
    "    #         return x\n",
    "    #     else: return (np.exp(x) - 1)\n",
    "        result = Parameter(self._value if self._value > 0 else np.exp(self._value) - 1, 'Elu')\n",
    "\n",
    "        def _backward():\n",
    "            #if x > 0:\n",
    "                 # return 1\n",
    "            #else: return np.exp(x)\n",
    "            self.grad = (1 if self._value > 0 else np.exp(self._value) - 1)\n",
    "        result._backward = _backward\n",
    "\n",
    "        return result\n",
    "        \n",
    "#def sgd(...) -> ...:\n",
    "    # LAB 2 TASK 3: YOUR CODE GOES HERE"
   ]
  },
  {
   "cell_type": "code",
   "execution_count": 17,
   "id": "3fb6d7c2-fbe0-42a9-8da1-a047fb90896a",
   "metadata": {},
   "outputs": [],
   "source": [
    "a = Parameter(3.0, 'a')\n",
    "b = Parameter(2.0, 'b')\n",
    "c = Parameter(5.0, 'c')\n",
    "d = Parameter(5.0, 'd')"
   ]
  },
  {
   "cell_type": "code",
   "execution_count": 18,
   "id": "7d8c5fc4-619f-47df-aa4b-b8fd715816a0",
   "metadata": {},
   "outputs": [
    {
     "name": "stdout",
     "output_type": "stream",
     "text": [
      "Parameter a = 3.0; dL/d[a] = 0.0\n",
      "Parameter b = 2.0; dL/d[b] = 0.0\n",
      "Parameter c = 5.0; dL/d[c] = 0.0\n",
      "Parameter d = 5.0; dL/d[d] = 0.0\n"
     ]
    }
   ],
   "source": [
    "print(a)\n",
    "print(b)\n",
    "print(c)\n",
    "print(d)"
   ]
  },
  {
   "cell_type": "code",
   "execution_count": 64,
   "id": "66591a2f-3feb-4322-87c8-90e0a3412b76",
   "metadata": {},
   "outputs": [
    {
     "name": "stdout",
     "output_type": "stream",
     "text": [
      "Parameter [x + x] = 8.0; dL/d[[x + x]] = 1.0\n"
     ]
    }
   ],
   "source": [
    "x = Parameter(4.0, 'x')\n",
    "\n",
    "f = x + x\n",
    "\n",
    "f._grad = 1.0\n",
    "\n",
    "print(f)"
   ]
  },
  {
   "cell_type": "code",
   "execution_count": 58,
   "id": "872d04b3-8cb0-4a2c-aac4-63bd83bf5af2",
   "metadata": {},
   "outputs": [
    {
     "data": {
      "text/plain": [
       "Parameter ReLU = 8.0; dL/d[ReLU] = 0.0"
      ]
     },
     "execution_count": 58,
     "metadata": {},
     "output_type": "execute_result"
    }
   ],
   "source": [
    "x = Parameter(4.0, 'x')\n",
    "\n",
    "f = x + x\n",
    "f.ReLu()\n"
   ]
  },
  {
   "cell_type": "code",
   "execution_count": 59,
   "id": "613beeb4-acb0-4820-a94a-276922c2bd95",
   "metadata": {},
   "outputs": [],
   "source": [
    "f._backward()"
   ]
  },
  {
   "cell_type": "code",
   "execution_count": 55,
   "id": "eddbffef-d072-4e9d-bd6b-a8a8996483c7",
   "metadata": {},
   "outputs": [
    {
     "data": {
      "text/plain": [
       "Parameter Elu = 8.0; dL/d[Elu] = 0.0"
      ]
     },
     "execution_count": 55,
     "metadata": {},
     "output_type": "execute_result"
    }
   ],
   "source": [
    "x = Parameter(4.0, 'x')\n",
    "\n",
    "f = x + x\n",
    "f.Elu()"
   ]
  },
  {
   "cell_type": "code",
   "execution_count": 56,
   "id": "4f7730f9-64fa-4ea9-bfb4-5fe5550567f0",
   "metadata": {},
   "outputs": [
    {
     "data": {
      "text/plain": [
       "Parameter σ([x + x]) = 0.9996646498695336; dL/d[σ([x + x])] = 0.0"
      ]
     },
     "execution_count": 56,
     "metadata": {},
     "output_type": "execute_result"
    }
   ],
   "source": [
    "f.sigmoid()"
   ]
  },
  {
   "cell_type": "code",
   "execution_count": 61,
   "id": "f0f1e7b0-2af7-4c4d-8dbb-26e2a662334e",
   "metadata": {},
   "outputs": [
    {
     "ename": "AttributeError",
     "evalue": "'Parameter' object has no attribute '_prev'",
     "output_type": "error",
     "traceback": [
      "\u001b[1;31m---------------------------------------------------------------------------\u001b[0m",
      "\u001b[1;31mAttributeError\u001b[0m                            Traceback (most recent call last)",
      "Cell \u001b[1;32mIn[61], line 4\u001b[0m\n\u001b[0;32m      1\u001b[0m x \u001b[38;5;241m=\u001b[39m Parameter(\u001b[38;5;241m4.0\u001b[39m, \u001b[38;5;124m'\u001b[39m\u001b[38;5;124mx\u001b[39m\u001b[38;5;124m'\u001b[39m)\n\u001b[0;32m      3\u001b[0m f \u001b[38;5;241m=\u001b[39m x \u001b[38;5;241m+\u001b[39m x\n\u001b[1;32m----> 4\u001b[0m \u001b[43mf\u001b[49m\u001b[38;5;241;43m.\u001b[39;49m\u001b[43mbackward\u001b[49m\u001b[43m(\u001b[49m\u001b[43m)\u001b[49m\n",
      "Cell \u001b[1;32mIn[57], line 69\u001b[0m, in \u001b[0;36mParameter.backward\u001b[1;34m(self)\u001b[0m\n\u001b[0;32m     67\u001b[0m             build_top_ord(child)\n\u001b[0;32m     68\u001b[0m         top_ord\u001b[38;5;241m.\u001b[39mappend(v)\n\u001b[1;32m---> 69\u001b[0m \u001b[43mbuild_top_ord\u001b[49m\u001b[43m(\u001b[49m\u001b[38;5;28;43mself\u001b[39;49m\u001b[43m)\u001b[49m\n\u001b[0;32m     71\u001b[0m \u001b[38;5;66;03m# go one variable at a time and apply the chain rule to get its gradient\u001b[39;00m\n\u001b[0;32m     72\u001b[0m \u001b[38;5;28mself\u001b[39m\u001b[38;5;241m.\u001b[39mgrad \u001b[38;5;241m=\u001b[39m \u001b[38;5;241m1\u001b[39m\n",
      "Cell \u001b[1;32mIn[57], line 66\u001b[0m, in \u001b[0;36mParameter.backward.<locals>.build_top_ord\u001b[1;34m(v)\u001b[0m\n\u001b[0;32m     64\u001b[0m \u001b[38;5;28;01mif\u001b[39;00m v \u001b[38;5;129;01mnot\u001b[39;00m \u001b[38;5;129;01min\u001b[39;00m visited:\n\u001b[0;32m     65\u001b[0m     visited\u001b[38;5;241m.\u001b[39madd(v)\n\u001b[1;32m---> 66\u001b[0m     \u001b[38;5;28;01mfor\u001b[39;00m child \u001b[38;5;129;01min\u001b[39;00m \u001b[43mv\u001b[49m\u001b[38;5;241;43m.\u001b[39;49m\u001b[43m_prev\u001b[49m:\n\u001b[0;32m     67\u001b[0m         build_top_ord(child)\n\u001b[0;32m     68\u001b[0m     top_ord\u001b[38;5;241m.\u001b[39mappend(v)\n",
      "\u001b[1;31mAttributeError\u001b[0m: 'Parameter' object has no attribute '_prev'"
     ]
    }
   ],
   "source": [
    "x = Parameter(4.0, 'x')\n",
    "\n",
    "f = x + x\n",
    "f.backward()"
   ]
  }
 ],
 "metadata": {
  "kernelspec": {
   "display_name": "Python 3 (ipykernel)",
   "language": "python",
   "name": "python3"
  },
  "language_info": {
   "codemirror_mode": {
    "name": "ipython",
    "version": 3
   },
   "file_extension": ".py",
   "mimetype": "text/x-python",
   "name": "python",
   "nbconvert_exporter": "python",
   "pygments_lexer": "ipython3",
   "version": "3.11.4"
  }
 },
 "nbformat": 4,
 "nbformat_minor": 5
}
